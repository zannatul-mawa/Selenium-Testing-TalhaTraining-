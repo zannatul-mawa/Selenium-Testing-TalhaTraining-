{
 "cells": [
  {
   "cell_type": "code",
   "execution_count": 22,
   "id": "be1fe4f4",
   "metadata": {},
   "outputs": [],
   "source": [
    "from selenium import webdriver  \n",
    "from selenium.webdriver.common.keys import Keys\n",
    "from selenium.webdriver.common.by import By\n",
    "from selenium.common.exceptions import NoSuchElementException\n",
    "from selenium.webdriver.support.ui import Select\n",
    "\n",
    "# initialize Firefox\n",
    "driver = webdriver.Firefox('executable_path'=='C:\\\\webdriver\\\\geckodriver.exe')"
   ]
  },
  {
   "cell_type": "code",
   "execution_count": 23,
   "id": "6205c59a",
   "metadata": {},
   "outputs": [],
   "source": [
    "# open website\n",
    "driver.get('https://old.talhatraining.com/')"
   ]
  },
  {
   "cell_type": "code",
   "execution_count": 24,
   "id": "5bdaa01b",
   "metadata": {},
   "outputs": [],
   "source": [
    "try:\n",
    "    person_sign_in_email = driver.find_element(By.NAME, \"person_sign_in_email\").send_keys(\"learner@talhatraining.com\")\n",
    "    #print(person_sign_in_email)\n",
    "    \n",
    "except NoSuchElementException as e:\n",
    "    print(f\"Element not found: {e}\")"
   ]
  },
  {
   "cell_type": "code",
   "execution_count": 25,
   "id": "d768c3f0",
   "metadata": {},
   "outputs": [],
   "source": [
    "try:\n",
    "    person_sign_in_password = driver.find_element(By.NAME, \"person_sign_in_password\").send_keys(\"Sqa.2023June\")\n",
    "    #print(person_sign_in_password)\n",
    "    \n",
    "except NoSuchElementException as e:\n",
    "    print(f\"Element not found: {e}\")"
   ]
  },
  {
   "cell_type": "code",
   "execution_count": 26,
   "id": "8feaf21a",
   "metadata": {},
   "outputs": [],
   "source": [
    "signin = driver.find_element(By.ID, \"formID2\")\n",
    "signin.submit()"
   ]
  },
  {
   "cell_type": "code",
   "execution_count": 27,
   "id": "fe0f0114",
   "metadata": {},
   "outputs": [],
   "source": [
    "try:\n",
    "    teacher_course_add_course = driver.find_element(By.LINK_TEXT, \"Teacher Course\").click()\n",
    "    #print(teacher_course_add_course)\n",
    "    \n",
    "except NoSuchElementException as e:\n",
    "    print(f\"Element not found: {e}\")"
   ]
  },
  {
   "cell_type": "code",
   "execution_count": 28,
   "id": "0975b0b8",
   "metadata": {},
   "outputs": [],
   "source": [
    "driver.execute_script(\"window.location.href='https://old.talhatraining.com/user/add-course';\")"
   ]
  },
  {
   "cell_type": "code",
   "execution_count": 29,
   "id": "9e824962",
   "metadata": {},
   "outputs": [],
   "source": [
    "try:\n",
    "    course_name_by_id = driver.find_element(By.ID, \"course_name\").send_keys(\"Quality Assurance and Testing\")\n",
    "    #print(course_name_by_id)\n",
    "    \n",
    "except NoSuchElementException as e:\n",
    "    print(f\"Element not found: {e}\")"
   ]
  },
  {
   "cell_type": "code",
   "execution_count": 30,
   "id": "c6b480a7",
   "metadata": {},
   "outputs": [
    {
     "name": "stdout",
     "output_type": "stream",
     "text": [
      "<selenium.webdriver.remote.webelement.WebElement (session=\"2737d260-265c-4049-afb4-919d99565196\", element=\"f5c33f3e-c194-4bec-82c0-421fd849ab9f\")>\n"
     ]
    }
   ],
   "source": [
    "try:\n",
    "    parent_topic_id_by_id = driver.find_element(By.ID, \"parent_topic_id\")\n",
    "    print(parent_topic_id_by_id)\n",
    "    \n",
    "except NoSuchElementException as e:\n",
    "    print(f\"Element not found: {e}\")"
   ]
  },
  {
   "cell_type": "code",
   "execution_count": 39,
   "id": "6b2d7d11",
   "metadata": {},
   "outputs": [],
   "source": [
    "from selenium.webdriver.support.ui import Select"
   ]
  },
  {
   "cell_type": "code",
   "execution_count": 40,
   "id": "36e79297",
   "metadata": {},
   "outputs": [],
   "source": [
    "select = Select(parent_topic_id_by_id)\n",
    "select.select_by_index(3)"
   ]
  },
  {
   "cell_type": "code",
   "execution_count": 41,
   "id": "7a69da5a",
   "metadata": {},
   "outputs": [],
   "source": [
    "select = Select(parent_topic_id_by_id)\n",
    "select.select_by_visible_text('Knowledge')\n",
    "#parent_topic_id_by_id.select_by_visible_text('Knowledge')"
   ]
  },
  {
   "cell_type": "code",
   "execution_count": 42,
   "id": "5e3a7230",
   "metadata": {},
   "outputs": [],
   "source": [
    "select = Select(parent_topic_id_by_id)\n",
    "select.select_by_value('33')\n"
   ]
  },
  {
   "cell_type": "code",
   "execution_count": 43,
   "id": "a0fc18be",
   "metadata": {},
   "outputs": [
    {
     "name": "stdout",
     "output_type": "stream",
     "text": [
      "<selenium.webdriver.remote.webelement.WebElement (session=\"2737d260-265c-4049-afb4-919d99565196\", element=\"994f1e4d-a8bc-4995-b355-1c01d0e30e0a\")>\n"
     ]
    }
   ],
   "source": [
    "try:\n",
    "    topic_id_by_id = driver.find_element(By.ID, \"topic_id\")\n",
    "    print(topic_id_by_id)\n",
    "    \n",
    "except NoSuchElementException as e:\n",
    "    print(f\"Element not found: {e}\")"
   ]
  },
  {
   "cell_type": "code",
   "execution_count": 46,
   "id": "8bc44219",
   "metadata": {},
   "outputs": [],
   "source": [
    "select = Select(topic_id_by_id)\n",
    "select.select_by_index(1)"
   ]
  },
  {
   "cell_type": "code",
   "execution_count": 47,
   "id": "682722c5",
   "metadata": {},
   "outputs": [],
   "source": [
    "select = Select(topic_id_by_id)\n",
    "select.select_by_visible_text('Web Security and Ethical Hacking')"
   ]
  },
  {
   "cell_type": "code",
   "execution_count": 50,
   "id": "8f75f25b",
   "metadata": {},
   "outputs": [],
   "source": [
    "select = Select(topic_id_by_id)\n",
    "select.select_by_value('34')"
   ]
  },
  {
   "cell_type": "code",
   "execution_count": 51,
   "id": "d524096e",
   "metadata": {},
   "outputs": [],
   "source": [
    "try:\n",
    "    #radio_button_by_id_paid = driver.find_element(By.ID, \"paid\").click()\n",
    "    #print(radio_button_by_id_paid)\n",
    "    \n",
    "    radio_button_by_id_free = driver.find_element(By.ID, \"free\").click()\n",
    "    \n",
    "except NoSuchElementException as e:\n",
    "    print(f\"Element not found: {e}\")"
   ]
  },
  {
   "cell_type": "code",
   "execution_count": 52,
   "id": "df123d2d",
   "metadata": {},
   "outputs": [
    {
     "name": "stdout",
     "output_type": "stream",
     "text": [
      "<selenium.webdriver.remote.webelement.WebElement (session=\"2737d260-265c-4049-afb4-919d99565196\", element=\"b39f5e2a-b116-46f2-94bc-ab2a28f95c1c\")>\n"
     ]
    }
   ],
   "source": [
    "try:\n",
    "    select_course_level_by_id = driver.find_element(By.ID, \"course_level\")\n",
    "    print(select_course_level_by_id)\n",
    "    \n",
    "except NoSuchElementException as e:\n",
    "    print(f\"Element not found: {e}\")"
   ]
  },
  {
   "cell_type": "code",
   "execution_count": 53,
   "id": "0d9f9210",
   "metadata": {},
   "outputs": [],
   "source": [
    "select = Select(select_course_level_by_id)\n",
    "select.select_by_index(2)"
   ]
  },
  {
   "cell_type": "code",
   "execution_count": 54,
   "id": "91a09592",
   "metadata": {},
   "outputs": [],
   "source": [
    "select = Select(select_course_level_by_id)\n",
    "select.select_by_visible_text('Basic')"
   ]
  },
  {
   "cell_type": "code",
   "execution_count": 55,
   "id": "24e64584",
   "metadata": {},
   "outputs": [],
   "source": [
    "select = Select(select_course_level_by_id)\n",
    "select.select_by_value('0')"
   ]
  },
  {
   "cell_type": "code",
   "execution_count": 56,
   "id": "70d11450",
   "metadata": {},
   "outputs": [],
   "source": [
    "try:\n",
    "    number_of_classes = driver.find_element(By.ID, \"number_of_classes\").send_keys(\"32\")\n",
    "    #print(number_of_classes)\n",
    "    \n",
    "except NoSuchElementException as e:\n",
    "    print(f\"Element not found: {e}\")"
   ]
  },
  {
   "cell_type": "code",
   "execution_count": 57,
   "id": "74d4b9cf",
   "metadata": {},
   "outputs": [],
   "source": [
    "try:\n",
    "    class_hour_per_day = driver.find_element(By.ID, \"class_hour_per_day\").send_keys(\"120\")\n",
    "    #print(class_hour_per_day)\n",
    "    \n",
    "except NoSuchElementException as e:\n",
    "    print(f\"Element not found: {e}\")"
   ]
  },
  {
   "cell_type": "code",
   "execution_count": 58,
   "id": "4910fd9f",
   "metadata": {},
   "outputs": [],
   "source": [
    "try:\n",
    "    course_start_date = driver.find_element(By.ID, \"course_start_date\").send_keys(\"2023-12-18\")\n",
    "    #print(course_start_date)\n",
    "    \n",
    "except NoSuchElementException as e:\n",
    "    print(f\"Element not found: {e}\")"
   ]
  },
  {
   "cell_type": "code",
   "execution_count": 59,
   "id": "e1c63184",
   "metadata": {},
   "outputs": [],
   "source": [
    "try:\n",
    "    class_time = driver.find_element(By.ID, \"class_time\").send_keys(\"8:20 PM\")\n",
    "    #print(class_time)\n",
    "    \n",
    "except NoSuchElementException as e:\n",
    "    print(f\"Element not found: {e}\")"
   ]
  },
  {
   "cell_type": "code",
   "execution_count": 60,
   "id": "178b1afb",
   "metadata": {},
   "outputs": [],
   "source": [
    "try:\n",
    "    last_date_of_registration = driver.find_element(By.ID, \"last_date_of_registration\").send_keys(\"2023-12-17\")\n",
    "    #print(last_date_of_registration)\n",
    "    \n",
    "except NoSuchElementException as e:\n",
    "    print(f\"Element not found: {e}\")"
   ]
  },
  {
   "cell_type": "code",
   "execution_count": 61,
   "id": "976d64e5",
   "metadata": {},
   "outputs": [],
   "source": [
    "try:\n",
    "    course_finished_date = driver.find_element(By.ID, \"course_finished_date\").send_keys(\"2024-06-18\")\n",
    "    #print(course_finished_date)\n",
    "    \n",
    "except NoSuchElementException as e:\n",
    "    print(f\"Element not found: {e}\")"
   ]
  },
  {
   "cell_type": "code",
   "execution_count": 62,
   "id": "cef7434e",
   "metadata": {},
   "outputs": [
    {
     "name": "stdout",
     "output_type": "stream",
     "text": [
      "<selenium.webdriver.remote.webelement.WebElement (session=\"2737d260-265c-4049-afb4-919d99565196\", element=\"519e0829-f52a-4fd2-8742-d58fb099fe35\")>\n"
     ]
    }
   ],
   "source": [
    "try:\n",
    "    select_radio_button_yes = driver.find_element(By.ID, \"Yes\")\n",
    "    print(select_radio_button_yes)\n",
    "    \n",
    "except NoSuchElementException as e:\n",
    "    print(f\"Element not found: {e}\")"
   ]
  },
  {
   "cell_type": "code",
   "execution_count": 63,
   "id": "e07cd713",
   "metadata": {},
   "outputs": [],
   "source": [
    "select_radio_button_yes.click()"
   ]
  },
  {
   "cell_type": "code",
   "execution_count": 64,
   "id": "c4205a46",
   "metadata": {},
   "outputs": [
    {
     "name": "stdout",
     "output_type": "stream",
     "text": [
      "<selenium.webdriver.remote.webelement.WebElement (session=\"2737d260-265c-4049-afb4-919d99565196\", element=\"693c954b-2625-4f03-8240-2f8050acedec\")>\n"
     ]
    }
   ],
   "source": [
    "try:\n",
    "    course_days1 = driver.find_element(By.ID, \"course_days1\")\n",
    "    print(course_days1)\n",
    "    \n",
    "except NoSuchElementException as e:\n",
    "    print(f\"Element not found: {e}\")"
   ]
  },
  {
   "cell_type": "code",
   "execution_count": 65,
   "id": "24ab0e20",
   "metadata": {},
   "outputs": [],
   "source": [
    "course_days1.click()"
   ]
  },
  {
   "cell_type": "code",
   "execution_count": 66,
   "id": "c841a6ab",
   "metadata": {},
   "outputs": [
    {
     "name": "stdout",
     "output_type": "stream",
     "text": [
      "<selenium.webdriver.remote.webelement.WebElement (session=\"2737d260-265c-4049-afb4-919d99565196\", element=\"5301203d-97fa-45e7-a677-5ad7b636a1cc\")>\n"
     ]
    }
   ],
   "source": [
    "try:\n",
    "    course_language = driver.find_element(By.ID, \"course_language\")\n",
    "    print(course_language)\n",
    "    \n",
    "except NoSuchElementException as e:\n",
    "    print(f\"Element not found: {e}\")"
   ]
  },
  {
   "cell_type": "code",
   "execution_count": 67,
   "id": "cc1223ac",
   "metadata": {},
   "outputs": [],
   "source": [
    "select = Select(course_language)\n",
    "select.select_by_index(1)"
   ]
  },
  {
   "cell_type": "code",
   "execution_count": 68,
   "id": "ab596dee",
   "metadata": {},
   "outputs": [
    {
     "name": "stdout",
     "output_type": "stream",
     "text": [
      "<selenium.webdriver.remote.webelement.WebElement (session=\"2737d260-265c-4049-afb4-919d99565196\", element=\"dcea7d40-8522-48b2-a1ea-e060872b77e5\")>\n"
     ]
    }
   ],
   "source": [
    "try:\n",
    "    course_access_level = driver.find_element(By.ID, \"course_access_level\")\n",
    "    print(course_access_level)\n",
    "    \n",
    "except NoSuchElementException as e:\n",
    "    print(f\"Element not found: {e}\")"
   ]
  },
  {
   "cell_type": "code",
   "execution_count": 69,
   "id": "68548bcb",
   "metadata": {},
   "outputs": [],
   "source": [
    "select = Select(course_access_level)\n",
    "select.select_by_index(1)"
   ]
  },
  {
   "cell_type": "code",
   "execution_count": 70,
   "id": "618a1a85",
   "metadata": {},
   "outputs": [
    {
     "name": "stdout",
     "output_type": "stream",
     "text": [
      "<selenium.webdriver.remote.webelement.WebElement (session=\"2737d260-265c-4049-afb4-919d99565196\", element=\"b39f5e2a-b116-46f2-94bc-ab2a28f95c1c\")>\n"
     ]
    }
   ],
   "source": [
    "try:\n",
    "    select_course_level_by_id = driver.find_element(By.ID, \"course_level\")\n",
    "    print(select_course_level_by_id)\n",
    "    \n",
    "except NoSuchElementException as e:\n",
    "    print(f\"Element not found: {e}\")"
   ]
  },
  {
   "cell_type": "code",
   "execution_count": 71,
   "id": "d8162900",
   "metadata": {},
   "outputs": [
    {
     "name": "stdout",
     "output_type": "stream",
     "text": [
      "<selenium.webdriver.remote.webelement.WebElement (session=\"2737d260-265c-4049-afb4-919d99565196\", element=\"b39f5e2a-b116-46f2-94bc-ab2a28f95c1c\")>\n"
     ]
    }
   ],
   "source": [
    "try:\n",
    "    select_course_level_by_id = driver.find_element(By.ID, \"course_level\")\n",
    "    print(select_course_level_by_id)\n",
    "    \n",
    "except NoSuchElementException as e:\n",
    "    print(f\"Element not found: {e}\")"
   ]
  },
  {
   "cell_type": "code",
   "execution_count": 72,
   "id": "7b16d35c",
   "metadata": {},
   "outputs": [
    {
     "name": "stdout",
     "output_type": "stream",
     "text": [
      "<selenium.webdriver.remote.webelement.WebElement (session=\"2737d260-265c-4049-afb4-919d99565196\", element=\"bf2373b8-a020-4a6c-ba94-9f73b8d2081f\")>\n"
     ]
    }
   ],
   "source": [
    "try:\n",
    "    add_course = driver.find_element(By.NAME, \"add_course\")\n",
    "    print(add_course)\n",
    "    \n",
    "except NoSuchElementException as e:\n",
    "    print(f\"Element not found: {e}\")"
   ]
  },
  {
   "cell_type": "code",
   "execution_count": 73,
   "id": "438f26a9",
   "metadata": {},
   "outputs": [],
   "source": [
    "add_course.click()"
   ]
  },
  {
   "cell_type": "code",
   "execution_count": 74,
   "id": "2be70f37",
   "metadata": {},
   "outputs": [],
   "source": [
    "driver.close()  "
   ]
  },
  {
   "cell_type": "code",
   "execution_count": null,
   "id": "394c8bbe",
   "metadata": {},
   "outputs": [],
   "source": []
  }
 ],
 "metadata": {
  "kernelspec": {
   "display_name": "Python 3 (ipykernel)",
   "language": "python",
   "name": "python3"
  },
  "language_info": {
   "codemirror_mode": {
    "name": "ipython",
    "version": 3
   },
   "file_extension": ".py",
   "mimetype": "text/x-python",
   "name": "python",
   "nbconvert_exporter": "python",
   "pygments_lexer": "ipython3",
   "version": "3.11.4"
  }
 },
 "nbformat": 4,
 "nbformat_minor": 5
}
